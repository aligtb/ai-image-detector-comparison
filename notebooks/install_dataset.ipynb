{
 "cells": [
  {
   "cell_type": "code",
   "execution_count": 2,
   "id": "a569bb7b",
   "metadata": {},
   "outputs": [
    {
     "name": "stdout",
     "output_type": "stream",
     "text": [
      "Download already complete (109625224 bytes).\n",
      "Extracting files...\n",
      "Path to dataset files: /home/user/.cache/kagglehub/datasets/birdy654/cifake-real-and-ai-generated-synthetic-images/versions/3\n"
     ]
    }
   ],
   "source": [
    "import kagglehub\n",
    "\n",
    "# Download latest version\n",
    "path = kagglehub.dataset_download(\"birdy654/cifake-real-and-ai-generated-synthetic-images\")\n",
    "\n",
    "print(\"Path to dataset files:\", path)"
   ]
  },
  {
   "cell_type": "code",
   "execution_count": 5,
   "id": "be1c0462",
   "metadata": {},
   "outputs": [],
   "source": [
    "# create dataset dirs\n",
    "import os\n",
    "project_dir = \"../data/raw\"\n",
    "\n",
    "real_dir = os.path.join(project_dir, \"real\")\n",
    "fake_dir = os.path.join(project_dir, \"fake\")\n",
    "os.makedirs(real_dir, exist_ok=True)\n",
    "os.makedirs(fake_dir, exist_ok=True)"
   ]
  },
  {
   "cell_type": "code",
   "execution_count": 6,
   "id": "cc54097a",
   "metadata": {},
   "outputs": [],
   "source": [
    "# move the dataset into project dir\n",
    "import shutil\n",
    "\n",
    "cache_dir = path\n",
    "\n",
    "for split in [\"train\", \"test\"]:\n",
    "    for label in [\"REAL\", \"FAKE\"]:\n",
    "        src_dir = os.path.join(cache_dir, split, label)\n",
    "        dst_dir = real_dir if label == \"REAL\" else fake_dir\n",
    "\n",
    "        for file_name in os.listdir(src_dir):\n",
    "            src_path = os.path.join(src_dir, file_name)\n",
    "            dst_path = os.path.join(dst_dir, file_name)\n",
    "            shutil.copy2(src_path, dst_path) "
   ]
  },
  {
   "cell_type": "markdown",
   "id": "536ca6cc",
   "metadata": {},
   "source": [
    "# Download Dataset 2"
   ]
  },
  {
   "cell_type": "code",
   "execution_count": 1,
   "id": "6123eea0",
   "metadata": {},
   "outputs": [
    {
     "name": "stderr",
     "output_type": "stream",
     "text": [
      "/home/user/PML_Project/ai-image-detector-comparison/pml/lib/python3.13/site-packages/tqdm/auto.py:21: TqdmWarning: IProgress not found. Please update jupyter and ipywidgets. See https://ipywidgets.readthedocs.io/en/stable/user_install.html\n",
      "  from .autonotebook import tqdm as notebook_tqdm\n"
     ]
    },
    {
     "name": "stdout",
     "output_type": "stream",
     "text": [
      "Downloading from https://www.kaggle.com/api/v1/datasets/download/alessandrasala79/ai-vs-human-generated-dataset?dataset_version_number=4...\n"
     ]
    },
    {
     "name": "stderr",
     "output_type": "stream",
     "text": [
      "100%|██████████| 9.76G/9.76G [15:21<00:00, 11.4MB/s]  "
     ]
    },
    {
     "name": "stdout",
     "output_type": "stream",
     "text": [
      "Extracting files...\n"
     ]
    },
    {
     "name": "stderr",
     "output_type": "stream",
     "text": [
      "\n"
     ]
    },
    {
     "name": "stdout",
     "output_type": "stream",
     "text": [
      "Path to dataset files: /home/user/.cache/kagglehub/datasets/alessandrasala79/ai-vs-human-generated-dataset/versions/4\n"
     ]
    }
   ],
   "source": [
    "import kagglehub\n",
    "\n",
    "# Download latest version\n",
    "path = kagglehub.dataset_download(\"alessandrasala79/ai-vs-human-generated-dataset\")\n",
    "\n",
    "print(\"Path to dataset files:\", path)"
   ]
  },
  {
   "cell_type": "code",
   "execution_count": 6,
   "id": "3718b1c7",
   "metadata": {},
   "outputs": [],
   "source": [
    "import pandas as pd\n",
    "df_train = pd.read_csv(f\"{path}/train.csv\")\n",
    "df_test = pd.read_csv(f\"{path}/test.csv\")"
   ]
  },
  {
   "cell_type": "code",
   "execution_count": 7,
   "id": "abe3b6f8",
   "metadata": {},
   "outputs": [
    {
     "data": {
      "text/html": [
       "<div>\n",
       "<style scoped>\n",
       "    .dataframe tbody tr th:only-of-type {\n",
       "        vertical-align: middle;\n",
       "    }\n",
       "\n",
       "    .dataframe tbody tr th {\n",
       "        vertical-align: top;\n",
       "    }\n",
       "\n",
       "    .dataframe thead th {\n",
       "        text-align: right;\n",
       "    }\n",
       "</style>\n",
       "<table border=\"1\" class=\"dataframe\">\n",
       "  <thead>\n",
       "    <tr style=\"text-align: right;\">\n",
       "      <th></th>\n",
       "      <th>Unnamed: 0</th>\n",
       "      <th>file_name</th>\n",
       "      <th>label</th>\n",
       "    </tr>\n",
       "  </thead>\n",
       "  <tbody>\n",
       "    <tr>\n",
       "      <th>0</th>\n",
       "      <td>0</td>\n",
       "      <td>train_data/a6dcb93f596a43249135678dfcfc17ea.jpg</td>\n",
       "      <td>1</td>\n",
       "    </tr>\n",
       "    <tr>\n",
       "      <th>1</th>\n",
       "      <td>1</td>\n",
       "      <td>train_data/041be3153810433ab146bc97d5af505c.jpg</td>\n",
       "      <td>0</td>\n",
       "    </tr>\n",
       "    <tr>\n",
       "      <th>2</th>\n",
       "      <td>2</td>\n",
       "      <td>train_data/615df26ce9494e5db2f70e57ce7a3a4f.jpg</td>\n",
       "      <td>1</td>\n",
       "    </tr>\n",
       "    <tr>\n",
       "      <th>3</th>\n",
       "      <td>3</td>\n",
       "      <td>train_data/8542fe161d9147be8e835e50c0de39cd.jpg</td>\n",
       "      <td>0</td>\n",
       "    </tr>\n",
       "    <tr>\n",
       "      <th>4</th>\n",
       "      <td>4</td>\n",
       "      <td>train_data/5d81fa12bc3b4cea8c94a6700a477cf2.jpg</td>\n",
       "      <td>1</td>\n",
       "    </tr>\n",
       "  </tbody>\n",
       "</table>\n",
       "</div>"
      ],
      "text/plain": [
       "   Unnamed: 0                                        file_name  label\n",
       "0           0  train_data/a6dcb93f596a43249135678dfcfc17ea.jpg      1\n",
       "1           1  train_data/041be3153810433ab146bc97d5af505c.jpg      0\n",
       "2           2  train_data/615df26ce9494e5db2f70e57ce7a3a4f.jpg      1\n",
       "3           3  train_data/8542fe161d9147be8e835e50c0de39cd.jpg      0\n",
       "4           4  train_data/5d81fa12bc3b4cea8c94a6700a477cf2.jpg      1"
      ]
     },
     "execution_count": 7,
     "metadata": {},
     "output_type": "execute_result"
    }
   ],
   "source": [
    "df_train.head()"
   ]
  },
  {
   "cell_type": "code",
   "execution_count": 9,
   "id": "5ca60281",
   "metadata": {},
   "outputs": [],
   "source": [
    "# create dataset dirs\n",
    "import os\n",
    "project_dir = \"../dataset2\"\n",
    "\n",
    "train_dir = os.path.join(project_dir, \"train_data\")\n",
    "test_dir = os.path.join(project_dir, \"test_data_v2\")\n",
    "os.makedirs(train_dir, exist_ok=True)\n",
    "os.makedirs(test_dir, exist_ok=True)"
   ]
  },
  {
   "cell_type": "code",
   "execution_count": 10,
   "id": "c01e04f7",
   "metadata": {},
   "outputs": [],
   "source": [
    "# move the dataset into project dir\n",
    "import shutil\n",
    "\n",
    "cache_dir = path\n",
    "\n",
    "for split in [\"train_data\", \"test_data_v2\"]:\n",
    "        src_dir = os.path.join(cache_dir, split)\n",
    "        dst_dir = train_dir if split == \"train_data\" else test_dir\n",
    "\n",
    "        for file_name in os.listdir(src_dir):\n",
    "            src_path = os.path.join(src_dir, file_name)\n",
    "            dst_path = os.path.join(dst_dir, file_name)\n",
    "            shutil.copy2(src_path, dst_path) "
   ]
  },
  {
   "cell_type": "code",
   "execution_count": 11,
   "id": "3927c763",
   "metadata": {},
   "outputs": [
    {
     "data": {
      "text/plain": [
       "'../dataset2/test.csv'"
      ]
     },
     "execution_count": 11,
     "metadata": {},
     "output_type": "execute_result"
    }
   ],
   "source": [
    "shutil.copy2(os.path.join(path, \"train.csv\"), project_dir)\n",
    "shutil.copy2(os.path.join(path, \"test.csv\"), project_dir)"
   ]
  }
 ],
 "metadata": {
  "kernelspec": {
   "display_name": "pml",
   "language": "python",
   "name": "python3"
  },
  "language_info": {
   "codemirror_mode": {
    "name": "ipython",
    "version": 3
   },
   "file_extension": ".py",
   "mimetype": "text/x-python",
   "name": "python",
   "nbconvert_exporter": "python",
   "pygments_lexer": "ipython3",
   "version": "3.13.7"
  }
 },
 "nbformat": 4,
 "nbformat_minor": 5
}
