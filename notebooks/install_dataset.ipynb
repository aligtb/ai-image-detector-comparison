{
 "cells": [
  {
   "cell_type": "code",
   "execution_count": 1,
   "id": "a569bb7b",
   "metadata": {},
   "outputs": [
    {
     "name": "stderr",
     "output_type": "stream",
     "text": [
      "c:\\Users\\eiche\\AppData\\Local\\pypoetry\\Cache\\virtualenvs\\ai-image-detector-comparison-Hj7ihCus-py3.13\\Lib\\site-packages\\tqdm\\auto.py:21: TqdmWarning: IProgress not found. Please update jupyter and ipywidgets. See https://ipywidgets.readthedocs.io/en/stable/user_install.html\n",
      "  from .autonotebook import tqdm as notebook_tqdm\n"
     ]
    },
    {
     "name": "stdout",
     "output_type": "stream",
     "text": [
      "Downloading from https://www.kaggle.com/api/v1/datasets/download/birdy654/cifake-real-and-ai-generated-synthetic-images?dataset_version_number=3...\n"
     ]
    },
    {
     "name": "stderr",
     "output_type": "stream",
     "text": [
      "100%|██████████| 105M/105M [00:23<00:00, 4.60MB/s] "
     ]
    },
    {
     "name": "stdout",
     "output_type": "stream",
     "text": [
      "Extracting files...\n"
     ]
    },
    {
     "name": "stderr",
     "output_type": "stream",
     "text": [
      "\n"
     ]
    },
    {
     "name": "stdout",
     "output_type": "stream",
     "text": [
      "Path to dataset files: C:\\Users\\eiche\\.cache\\kagglehub\\datasets\\birdy654\\cifake-real-and-ai-generated-synthetic-images\\versions\\3\n"
     ]
    }
   ],
   "source": [
    "import kagglehub\n",
    "\n",
    "# Download latest version\n",
    "path = kagglehub.dataset_download(\"birdy654/cifake-real-and-ai-generated-synthetic-images\")\n",
    "\n",
    "print(\"Path to dataset files:\", path)"
   ]
  },
  {
   "cell_type": "code",
   "execution_count": 2,
   "id": "be1c0462",
   "metadata": {},
   "outputs": [],
   "source": [
    "# create dataset dirs\n",
    "import os\n",
    "project_dir = \"..\\\\dataset\\\\raw\"\n",
    "\n",
    "real_dir = os.path.join(project_dir, \"real\")\n",
    "fake_dir = os.path.join(project_dir, \"fake\")\n",
    "os.makedirs(real_dir, exist_ok=True)\n",
    "os.makedirs(fake_dir, exist_ok=True)"
   ]
  },
  {
   "cell_type": "code",
   "execution_count": 3,
   "id": "cc54097a",
   "metadata": {},
   "outputs": [],
   "source": [
    "# move the dataset into project dir\n",
    "import shutil\n",
    "\n",
    "cache_dir = path\n",
    "\n",
    "for split in [\"train\", \"test\"]:\n",
    "    for label in [\"REAL\", \"FAKE\"]:\n",
    "        src_dir = os.path.join(cache_dir, split, label)\n",
    "        dst_dir = real_dir if label == \"REAL\" else fake_dir\n",
    "\n",
    "        for file_name in os.listdir(src_dir):\n",
    "            src_path = os.path.join(src_dir, file_name)\n",
    "            dst_path = os.path.join(dst_dir, file_name)\n",
    "            shutil.copy2(src_path, dst_path) "
   ]
  }
 ],
 "metadata": {
  "kernelspec": {
   "display_name": "ai-image-detector-comparison-Hj7ihCus-py3.13",
   "language": "python",
   "name": "python3"
  },
  "language_info": {
   "codemirror_mode": {
    "name": "ipython",
    "version": 3
   },
   "file_extension": ".py",
   "mimetype": "text/x-python",
   "name": "python",
   "nbconvert_exporter": "python",
   "pygments_lexer": "ipython3",
   "version": "3.13.0"
  }
 },
 "nbformat": 4,
 "nbformat_minor": 5
}
