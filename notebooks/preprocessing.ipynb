{
 "cells": [
  {
   "cell_type": "code",
   "execution_count": null,
   "id": "0bf76425",
   "metadata": {},
   "outputs": [],
   "source": [
    "import os, json, shutil\n",
    "from pathlib import Path\n",
    "\n",
    "import torch\n",
    "from torchvision import models\n",
    "from PIL import Image\n",
    "import pandas as pd\n",
    "from tqdm.auto import tqdm\n",
    "\n",
    "INPUT_DIR  = r\"C:\\Desktop\\ML project\\ai-image-detector-comparison\\data\\raw_images\"\n",
    "OUTPUT_DIR = r\"C:\\Desktop\\ML project\\ai-image-detector-comparison\\data\\sorted\"\n",
    "RESULTS_CSV = r\"C:\\Desktop\\ML project\\ai-image-detector-comparison\\data\\classifier_results.csv\"\n",
    "\n",
    "EXTS = {\".jpg\", \".jpeg\", \".png\", \".bmp\", \".webp\"}\n",
    "TOP1_THRESHOLD = 0.25  \n",
    "\n",
    "KEYWORDS = {\n",
    "    \"people\": [\"person\",\"man\",\"woman\",\"boy\",\"girl\",\"bride\",\"groom\",\"diver\",\"skier\",\"player\",\"guitarist\",\"singer\"],\n",
    "    \"bird\":   [\"bird\",\"eagle\",\"hawk\",\"falcon\",\"parrot\",\"duck\",\"goose\",\"swan\",\"owl\",\"hen\",\"rooster\"],\n",
    "    \"animal\": [\"dog\",\"cat\",\"lion\",\"tiger\",\"leopard\",\"bear\",\"horse\",\"cow\",\"sheep\",\"goat\",\"pig\",\"deer\",\"monkey\",\"rabbit\",\"fox\",\"wolf\"],\n",
    "    \"vehicle\":[\"car\",\"taxi\",\"bus\",\"truck\",\"motorcycle\",\"bike\",\"bicycle\",\"train\",\"airplane\",\"helicopter\",\"boat\",\"ship\",\"sail\"],\n",
    "    \"indoor\": [\"sofa\",\"couch\",\"chair\",\"table\",\"desk\",\"lamp\",\"tv\",\"monitor\",\"keyboard\",\"bed\"],\n",
    "    \"outdoor\":[\"mountain\",\"beach\",\"forest\",\"valley\",\"cliff\",\"lakeside\",\"seashore\",\"desert\"],\n",
    "    \"building\":[\"castle\",\"palace\",\"mosque\",\"church\",\"pagoda\",\"barn\",\"bridge\",\"lighthouse\"],\n",
    "}\n",
    "DEFAULT_CLASS = \"other\"\n",
    "\n",
    "device = torch.device(\"cuda\" if torch.cuda.is_available() else \"cpu\")\n",
    "print(\"Device:\", device)\n",
    "\n",
    "weights = models.ResNet50_Weights.IMAGENET1K_V2\n",
    "model = models.resnet50(weights=weights).to(device).eval()\n",
    "preprocess = weights.transforms()\n",
    "classes = weights.meta[\"categories\"]"
   ]
  }
 ],
 "metadata": {
  "kernelspec": {
   "display_name": "Python 3",
   "language": "python",
   "name": "python3"
  },
  "language_info": {
   "name": "python",
   "version": "3.13.5"
  }
 },
 "nbformat": 4,
 "nbformat_minor": 5
}
