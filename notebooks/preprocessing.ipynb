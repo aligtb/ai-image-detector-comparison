{
 "cells": [
  {
   "cell_type": "code",
   "execution_count": null,
   "id": "0bf76425",
   "metadata": {},
   "outputs": [
    {
     "name": "stderr",
     "output_type": "stream",
     "text": [
      "/home/user/PML_Project/ai-image-detector-comparison/pml/lib/python3.13/site-packages/tqdm/auto.py:21: TqdmWarning: IProgress not found. Please update jupyter and ipywidgets. See https://ipywidgets.readthedocs.io/en/stable/user_install.html\n",
      "  from .autonotebook import tqdm as notebook_tqdm\n"
     ]
    },
    {
     "name": "stdout",
     "output_type": "stream",
     "text": [
      "Device: cuda\n",
      "Downloading: \"https://download.pytorch.org/models/resnet50-11ad3fa6.pth\" to /home/user/.cache/torch/hub/checkpoints/resnet50-11ad3fa6.pth\n"
     ]
    },
    {
     "name": "stderr",
     "output_type": "stream",
     "text": [
      "100%|██████████| 97.8M/97.8M [00:08<00:00, 12.8MB/s]\n"
     ]
    }
   ],
   "source": [
    "import os, json, shutil\n",
    "from pathlib import Path\n",
    "\n",
    "import torch\n",
    "from torchvision import models\n",
    "from PIL import Image\n",
    "import pandas as pd\n",
    "from tqdm.auto import tqdm\n",
    "\n",
    "INPUT_DIR  = r\"../data/raw_images\"\n",
    "OUTPUT_DIR = r\"../data/sorted\"\n",
    "RESULTS_CSV = r\"../classifier_results.csv\"\n",
    "\n",
    "EXTS = {\".jpg\", \".jpeg\", \".png\", \".bmp\", \".webp\"}\n",
    "TOP1_THRESHOLD = 0.25  \n",
    "\n",
    "KEYWORDS = {\n",
    "    \"people\": [\"person\",\"man\",\"woman\",\"boy\",\"girl\",\"bride\",\"groom\",\"diver\",\"skier\",\"player\",\"guitarist\",\"singer\"],\n",
    "    \"bird\":   [\"bird\",\"eagle\",\"hawk\",\"falcon\",\"parrot\",\"duck\",\"goose\",\"swan\",\"owl\",\"hen\",\"rooster\"],\n",
    "    \"animal\": [\"dog\",\"cat\",\"lion\",\"tiger\",\"leopard\",\"bear\",\"horse\",\"cow\",\"sheep\",\"goat\",\"pig\",\"deer\",\"monkey\",\"rabbit\",\"fox\",\"wolf\"],\n",
    "    \"vehicle\":[\"car\",\"taxi\",\"bus\",\"truck\",\"motorcycle\",\"bike\",\"bicycle\",\"train\",\"airplane\",\"helicopter\",\"boat\",\"ship\",\"sail\"],\n",
    "    \"indoor\": [\"sofa\",\"couch\",\"chair\",\"table\",\"desk\",\"lamp\",\"tv\",\"monitor\",\"keyboard\",\"bed\"],\n",
    "    \"outdoor\":[\"mountain\",\"beach\",\"forest\",\"valley\",\"cliff\",\"lakeside\",\"seashore\",\"desert\"],\n",
    "    \"building\":[\"castle\",\"palace\",\"mosque\",\"church\",\"pagoda\",\"barn\",\"bridge\",\"lighthouse\"],\n",
    "}\n",
    "DEFAULT_CLASS = \"other\"\n",
    "\n",
    "device = torch.device(\"cuda\" if torch.cuda.is_available() else \"cpu\")\n",
    "print(\"Device:\", device)\n",
    "\n",
    "weights = models.ResNet50_Weights.IMAGENET1K_V2\n",
    "model = models.resnet50(weights=weights).to(device).eval()\n",
    "preprocess = weights.transforms()\n",
    "classes = weights.meta[\"categories\"]"
   ]
  },
  {
   "cell_type": "code",
   "execution_count": 2,
   "id": "bf282f10",
   "metadata": {},
   "outputs": [],
   "source": [
    "def list_images(root: str):\n",
    "    root = Path(root)\n",
    "    files = []\n",
    "    for p in root.rglob(\"*\"):\n",
    "        if p.is_file() and p.suffix.lower() in EXTS:\n",
    "            files.append(p)\n",
    "    return sorted(files)\n",
    "\n",
    "def predict_topk(img_path: Path, k=5):\n",
    "    try:\n",
    "        img = Image.open(img_path).convert(\"RGB\")\n",
    "    except Exception as e:\n",
    "        return None \n",
    "    x = preprocess(img).unsqueeze(0).to(device)\n",
    "    with torch.no_grad():\n",
    "        logits = model(x)\n",
    "        probs = torch.softmax(logits, dim=1)[0]\n",
    "        top_prob, top_idx = probs.topk(k)\n",
    "    names = [classes[i] for i in top_idx.tolist()]\n",
    "    return top_idx.tolist(), names, top_prob.tolist()\n",
    "\n",
    "def map_to_coarse(names):\n",
    "    low = [n.lower() for n in names]\n",
    "    for coarse, kws in KEYWORDS.items():\n",
    "        for n in low:\n",
    "            if any(kw in n for kw in kws):\n",
    "                return coarse\n",
    "    return DEFAULT_CLASS\n"
   ]
  },
  {
   "cell_type": "code",
   "execution_count": 3,
   "id": "c8078e48",
   "metadata": {},
   "outputs": [
    {
     "name": "stdout",
     "output_type": "stream",
     "text": [
      "Found images: 0\n"
     ]
    },
    {
     "name": "stderr",
     "output_type": "stream",
     "text": [
      "Classifying: 0it [00:00, ?it/s]\n"
     ]
    },
    {
     "data": {
      "text/html": [
       "<div>\n",
       "<style scoped>\n",
       "    .dataframe tbody tr th:only-of-type {\n",
       "        vertical-align: middle;\n",
       "    }\n",
       "\n",
       "    .dataframe tbody tr th {\n",
       "        vertical-align: top;\n",
       "    }\n",
       "\n",
       "    .dataframe thead th {\n",
       "        text-align: right;\n",
       "    }\n",
       "</style>\n",
       "<table border=\"1\" class=\"dataframe\">\n",
       "  <thead>\n",
       "    <tr style=\"text-align: right;\">\n",
       "      <th></th>\n",
       "    </tr>\n",
       "  </thead>\n",
       "  <tbody>\n",
       "  </tbody>\n",
       "</table>\n",
       "</div>"
      ],
      "text/plain": [
       "Empty DataFrame\n",
       "Columns: []\n",
       "Index: []"
      ]
     },
     "execution_count": 3,
     "metadata": {},
     "output_type": "execute_result"
    }
   ],
   "source": [
    "files = list_images(INPUT_DIR)\n",
    "print(\"Found images:\", len(files))\n",
    "\n",
    "rows = []\n",
    "for p in tqdm(files, desc=\"Classifying\"):\n",
    "    pred = predict_topk(p, k=5)\n",
    "    if pred is None:\n",
    "        continue\n",
    "    idxs, names, probs = pred\n",
    "    top1_prob = probs[0]\n",
    "    coarse = map_to_coarse(names) if top1_prob >= TOP1_THRESHOLD else DEFAULT_CLASS\n",
    "    rows.append({\n",
    "        \"path\": str(p),\n",
    "        \"top1_name\": names[0],\n",
    "        \"top1_prob\": top1_prob,\n",
    "        \"top5_name\": json.dumps(names),\n",
    "        \"top5_prob\": json.dumps(probs),\n",
    "        \"coarse\": coarse\n",
    "    })\n",
    "\n",
    "df = pd.DataFrame(rows)\n",
    "df.to_csv(RESULTS_CSV, index=False)\n",
    "df.head()"
   ]
  },
  {
   "cell_type": "code",
   "execution_count": null,
   "id": "7d43f912",
   "metadata": {},
   "outputs": [],
   "source": [
    "out = Path(OUTPUT_DIR)\n",
    "out.mkdir(parents=True, exist_ok=True)\n",
    "\n",
    "for _, r in tqdm(df.iterrows(), total=len(df), desc=\"Copying\"):\n",
    "    src = Path(r[\"path\"])\n",
    "    dst_dir = out / r[\"coarse\"]\n",
    "    dst_dir.mkdir(parents=True, exist_ok=True)\n",
    "    dst = dst_dir / src.name\n",
    "    if not dst.exists():\n",
    "        try:\n",
    "            shutil.copy2(src, dst)\n",
    "        except Exception as e:\n",
    "            print(\"COPY ERROR:\", src, \"->\", dst, e)\n",
    "\n",
    "print(\"Done. Classes distribution:\")\n",
    "print(df[\"coarse\"].value_counts())"
   ]
  }
 ],
 "metadata": {
  "kernelspec": {
   "display_name": "pml",
   "language": "python",
   "name": "python3"
  },
  "language_info": {
   "codemirror_mode": {
    "name": "ipython",
    "version": 3
   },
   "file_extension": ".py",
   "mimetype": "text/x-python",
   "name": "python",
   "nbconvert_exporter": "python",
   "pygments_lexer": "ipython3",
   "version": "3.13.7"
  }
 },
 "nbformat": 4,
 "nbformat_minor": 5
}
