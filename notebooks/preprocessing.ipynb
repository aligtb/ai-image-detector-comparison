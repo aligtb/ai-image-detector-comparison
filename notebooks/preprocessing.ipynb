{
 "cells": [
  {
   "cell_type": "code",
   "execution_count": 9,
   "id": "0bf76425",
   "metadata": {},
   "outputs": [
    {
     "name": "stdout",
     "output_type": "stream",
     "text": [
      "Device: cuda\n"
     ]
    }
   ],
   "source": [
    "import os, json, shutil\n",
    "from pathlib import Path\n",
    "\n",
    "import torch\n",
    "from torchvision import models\n",
    "from PIL import Image\n",
    "import pandas as pd\n",
    "from tqdm.auto import tqdm\n",
    "\n",
    "INPUT_DIR  = r\"../data/raw\"\n",
    "OUTPUT_DIR = r\"../data/sorted\"\n",
    "RESULTS_CSV = r\"../data/classifier_results.csv\"\n",
    "\n",
    "EXTS = {\".jpg\", \".jpeg\", \".png\", \".bmp\", \".webp\"}\n",
    "TOP1_THRESHOLD = 0.25  \n",
    "\n",
    "KEYWORDS = {\n",
    "    \"people\": [\"person\",\"man\",\"woman\",\"boy\",\"girl\",\"bride\",\"groom\",\"diver\",\"skier\",\"player\",\"guitarist\",\"singer\"],\n",
    "    \"bird\":   [\"bird\",\"eagle\",\"hawk\",\"falcon\",\"parrot\",\"duck\",\"goose\",\"swan\",\"owl\",\"hen\",\"rooster\"],\n",
    "    \"animal\": [\"dog\",\"cat\",\"lion\",\"tiger\",\"leopard\",\"bear\",\"horse\",\"cow\",\"sheep\",\"goat\",\"pig\",\"deer\",\"monkey\",\"rabbit\",\"fox\",\"wolf\"],\n",
    "    \"vehicle\":[\"car\",\"taxi\",\"bus\",\"truck\",\"motorcycle\",\"bike\",\"bicycle\",\"train\",\"airplane\",\"helicopter\",\"boat\",\"ship\",\"sail\"],\n",
    "    \"indoor\": [\"sofa\",\"couch\",\"chair\",\"table\",\"desk\",\"lamp\",\"tv\",\"monitor\",\"keyboard\",\"bed\"],\n",
    "    \"outdoor\":[\"mountain\",\"beach\",\"forest\",\"valley\",\"cliff\",\"lakeside\",\"seashore\",\"desert\"],\n",
    "    \"building\":[\"castle\",\"palace\",\"mosque\",\"church\",\"pagoda\",\"barn\",\"bridge\",\"lighthouse\"],\n",
    "}\n",
    "DEFAULT_CLASS = \"other\"\n",
    "\n",
    "device = torch.device(\"cuda\" if torch.cuda.is_available() else \"cpu\")\n",
    "print(\"Device:\", device)\n",
    "\n",
    "weights = models.ResNet50_Weights.IMAGENET1K_V2\n",
    "model = models.resnet50(weights=weights).to(device).eval()\n",
    "preprocess = weights.transforms()\n",
    "classes = weights.meta[\"categories\"]"
   ]
  },
  {
   "cell_type": "code",
   "execution_count": 5,
   "id": "bf282f10",
   "metadata": {},
   "outputs": [],
   "source": [
    "def list_images(root: str):\n",
    "    root = Path(root)\n",
    "    files = []\n",
    "    for p in root.rglob(\"*\"):\n",
    "        if p.is_file() and p.suffix.lower() in EXTS:\n",
    "            files.append(p)\n",
    "    return sorted(files)\n",
    "\n",
    "def predict_topk(img_path: Path, k=5):\n",
    "    try:\n",
    "        img = Image.open(img_path).convert(\"RGB\")\n",
    "    except Exception as e:\n",
    "        return None \n",
    "    x = preprocess(img).unsqueeze(0).to(device)\n",
    "    with torch.no_grad():\n",
    "        logits = model(x)\n",
    "        probs = torch.softmax(logits, dim=1)[0]\n",
    "        top_prob, top_idx = probs.topk(k)\n",
    "    names = [classes[i] for i in top_idx.tolist()]\n",
    "    return top_idx.tolist(), names, top_prob.tolist()\n",
    "\n",
    "def map_to_coarse(names):\n",
    "    low = [n.lower() for n in names]\n",
    "    for coarse, kws in KEYWORDS.items():\n",
    "        for n in low:\n",
    "            if any(kw in n for kw in kws):\n",
    "                return coarse\n",
    "    return DEFAULT_CLASS\n"
   ]
  },
  {
   "cell_type": "code",
   "execution_count": 10,
   "id": "c8078e48",
   "metadata": {},
   "outputs": [
    {
     "name": "stdout",
     "output_type": "stream",
     "text": [
      "Found images: 110000\n"
     ]
    },
    {
     "name": "stderr",
     "output_type": "stream",
     "text": [
      "Classifying: 100%|██████████| 110000/110000 [15:28<00:00, 118.41it/s]\n"
     ]
    },
    {
     "data": {
      "text/html": [
       "<div>\n",
       "<style scoped>\n",
       "    .dataframe tbody tr th:only-of-type {\n",
       "        vertical-align: middle;\n",
       "    }\n",
       "\n",
       "    .dataframe tbody tr th {\n",
       "        vertical-align: top;\n",
       "    }\n",
       "\n",
       "    .dataframe thead th {\n",
       "        text-align: right;\n",
       "    }\n",
       "</style>\n",
       "<table border=\"1\" class=\"dataframe\">\n",
       "  <thead>\n",
       "    <tr style=\"text-align: right;\">\n",
       "      <th></th>\n",
       "      <th>path</th>\n",
       "      <th>top1_name</th>\n",
       "      <th>top1_prob</th>\n",
       "      <th>top5_name</th>\n",
       "      <th>top5_prob</th>\n",
       "      <th>coarse</th>\n",
       "    </tr>\n",
       "  </thead>\n",
       "  <tbody>\n",
       "    <tr>\n",
       "      <th>0</th>\n",
       "      <td>../data/raw/fake/0 (10).jpg</td>\n",
       "      <td>moving van</td>\n",
       "      <td>0.204091</td>\n",
       "      <td>[\"moving van\", \"milk can\", \"espresso maker\", \"...</td>\n",
       "      <td>[0.2040911763906479, 0.034591443836688995, 0.0...</td>\n",
       "      <td>other</td>\n",
       "    </tr>\n",
       "    <tr>\n",
       "      <th>1</th>\n",
       "      <td>../data/raw/fake/0 (2).jpg</td>\n",
       "      <td>moving van</td>\n",
       "      <td>0.173163</td>\n",
       "      <td>[\"moving van\", \"cassette\", \"cassette player\", ...</td>\n",
       "      <td>[0.17316292226314545, 0.03860437124967575, 0.0...</td>\n",
       "      <td>other</td>\n",
       "    </tr>\n",
       "    <tr>\n",
       "      <th>2</th>\n",
       "      <td>../data/raw/fake/0 (3).jpg</td>\n",
       "      <td>platypus</td>\n",
       "      <td>0.063699</td>\n",
       "      <td>[\"platypus\", \"black grouse\", \"otter\", \"water o...</td>\n",
       "      <td>[0.06369943916797638, 0.0461534708738327, 0.02...</td>\n",
       "      <td>other</td>\n",
       "    </tr>\n",
       "    <tr>\n",
       "      <th>3</th>\n",
       "      <td>../data/raw/fake/0 (4).jpg</td>\n",
       "      <td>milk can</td>\n",
       "      <td>0.397394</td>\n",
       "      <td>[\"milk can\", \"Madagascar cat\", \"colobus\", \"pol...</td>\n",
       "      <td>[0.39739418029785156, 0.11154504120349884, 0.0...</td>\n",
       "      <td>animal</td>\n",
       "    </tr>\n",
       "    <tr>\n",
       "      <th>4</th>\n",
       "      <td>../data/raw/fake/0 (5).jpg</td>\n",
       "      <td>gazelle</td>\n",
       "      <td>0.178581</td>\n",
       "      <td>[\"gazelle\", \"coyote\", \"hartebeest\", \"English f...</td>\n",
       "      <td>[0.1785813570022583, 0.04376276582479477, 0.03...</td>\n",
       "      <td>other</td>\n",
       "    </tr>\n",
       "  </tbody>\n",
       "</table>\n",
       "</div>"
      ],
      "text/plain": [
       "                          path   top1_name  top1_prob  \\\n",
       "0  ../data/raw/fake/0 (10).jpg  moving van   0.204091   \n",
       "1   ../data/raw/fake/0 (2).jpg  moving van   0.173163   \n",
       "2   ../data/raw/fake/0 (3).jpg    platypus   0.063699   \n",
       "3   ../data/raw/fake/0 (4).jpg    milk can   0.397394   \n",
       "4   ../data/raw/fake/0 (5).jpg     gazelle   0.178581   \n",
       "\n",
       "                                           top5_name  \\\n",
       "0  [\"moving van\", \"milk can\", \"espresso maker\", \"...   \n",
       "1  [\"moving van\", \"cassette\", \"cassette player\", ...   \n",
       "2  [\"platypus\", \"black grouse\", \"otter\", \"water o...   \n",
       "3  [\"milk can\", \"Madagascar cat\", \"colobus\", \"pol...   \n",
       "4  [\"gazelle\", \"coyote\", \"hartebeest\", \"English f...   \n",
       "\n",
       "                                           top5_prob  coarse  \n",
       "0  [0.2040911763906479, 0.034591443836688995, 0.0...   other  \n",
       "1  [0.17316292226314545, 0.03860437124967575, 0.0...   other  \n",
       "2  [0.06369943916797638, 0.0461534708738327, 0.02...   other  \n",
       "3  [0.39739418029785156, 0.11154504120349884, 0.0...  animal  \n",
       "4  [0.1785813570022583, 0.04376276582479477, 0.03...   other  "
      ]
     },
     "execution_count": 10,
     "metadata": {},
     "output_type": "execute_result"
    }
   ],
   "source": [
    "files = list_images(INPUT_DIR)\n",
    "print(\"Found images:\", len(files))\n",
    "\n",
    "rows = []\n",
    "for p in tqdm(files, desc=\"Classifying\"):\n",
    "    pred = predict_topk(p, k=5)\n",
    "    if pred is None:\n",
    "        continue\n",
    "    idxs, names, probs = pred\n",
    "    top1_prob = probs[0]\n",
    "    coarse = map_to_coarse(names) if top1_prob >= TOP1_THRESHOLD else DEFAULT_CLASS\n",
    "    rows.append({\n",
    "        \"path\": str(p),\n",
    "        \"top1_name\": names[0],\n",
    "        \"top1_prob\": top1_prob,\n",
    "        \"top5_name\": json.dumps(names),\n",
    "        \"top5_prob\": json.dumps(probs),\n",
    "        \"coarse\": coarse\n",
    "    })\n",
    "\n",
    "df = pd.DataFrame(rows)\n",
    "df.to_csv(RESULTS_CSV, index=False)\n",
    "df.head()"
   ]
  },
  {
   "cell_type": "code",
   "execution_count": 11,
   "id": "7d43f912",
   "metadata": {},
   "outputs": [
    {
     "name": "stderr",
     "output_type": "stream",
     "text": [
      "Copying: 100%|██████████| 110000/110000 [00:13<00:00, 8447.20it/s] "
     ]
    },
    {
     "name": "stdout",
     "output_type": "stream",
     "text": [
      "Done. Classes distribution:\n",
      "coarse\n",
      "other       95544\n",
      "animal       6456\n",
      "vehicle      3592\n",
      "people       3491\n",
      "building      604\n",
      "indoor        161\n",
      "bird          107\n",
      "outdoor        45\n",
      "Name: count, dtype: int64\n"
     ]
    },
    {
     "name": "stderr",
     "output_type": "stream",
     "text": [
      "\n"
     ]
    }
   ],
   "source": [
    "out = Path(OUTPUT_DIR)\n",
    "out.mkdir(parents=True, exist_ok=True)\n",
    "\n",
    "for _, r in tqdm(df.iterrows(), total=len(df), desc=\"Copying\"):\n",
    "    src = Path(r[\"path\"])\n",
    "    dst_dir = out / r[\"coarse\"]\n",
    "    dst_dir.mkdir(parents=True, exist_ok=True)\n",
    "    dst = dst_dir / src.name\n",
    "    if not dst.exists():\n",
    "        try:\n",
    "            shutil.copy2(src, dst)\n",
    "        except Exception as e:\n",
    "            print(\"COPY ERROR:\", src, \"->\", dst, e)\n",
    "\n",
    "print(\"Done. Classes distribution:\")\n",
    "print(df[\"coarse\"].value_counts())"
   ]
  },
  {
   "cell_type": "markdown",
   "id": "6e9586d1",
   "metadata": {},
   "source": [
    "# Verify classification"
   ]
  },
  {
   "cell_type": "code",
   "execution_count": 24,
   "id": "0d764325",
   "metadata": {},
   "outputs": [],
   "source": [
    "import matplotlib.pyplot as plt\n",
    "\n",
    "def verify_classification(category, idx):\n",
    "    img_path = f\"../data/sorted/{category}/\"\n",
    "    img_path += os.listdir(f'../data/sorted/{category}')[idx]\n",
    "    img = Image.open(img_path)\n",
    "    plt.imshow(img)\n",
    "    plt.title(category)\n",
    "    plt.show()"
   ]
  },
  {
   "cell_type": "code",
   "execution_count": 27,
   "id": "2a04ddd4",
   "metadata": {},
   "outputs": [
    {
     "data": {
      "image/png": "[encoded data removed]",
      "text/plain": [
       "<Figure size 640x480 with 1 Axes>"
      ]
     },
     "metadata": {},
     "output_type": "display_data"
    },
    {
     "data": {
      "image/png": "[encoded data removed]",
      "text/plain": [
       "<Figure size 640x480 with 1 Axes>"
      ]
     },
     "metadata": {},
     "output_type": "display_data"
    },
    {
     "data": {
      "image/png": "[encoded data removed]",
      "text/plain": [
       "<Figure size 640x480 with 1 Axes>"
      ]
     },
     "metadata": {},
     "output_type": "display_data"
    },
    {
     "data": {
      "image/png": "[encoded data removed]",
      "text/plain": [
       "<Figure size 640x480 with 1 Axes>"
      ]
     },
     "metadata": {},
     "output_type": "display_data"
    },
    {
     "data": {
      "image/png": "[encoded data removed]",
      "text/plain": [
       "<Figure size 640x480 with 1 Axes>"
      ]
     },
     "metadata": {},
     "output_type": "display_data"
    }
   ],
   "source": [
    "verify_classification('animal', 10)\n",
    "verify_classification('bird', 10)\n",
    "verify_classification('building', 10)\n",
    "verify_classification('indoor', 10)\n",
    "verify_classification('people', 10)\n"
   ]
  },
  {
   "cell_type": "markdown",
   "id": "402ff6ca",
   "metadata": {},
   "source": [
    "This shows clearly that the classifier fails to classify this dataset"
   ]
  },
  {
   "cell_type": "markdown",
   "id": "7e05cb3b",
   "metadata": {},
   "source": [
    "# repeating the same steps with a different dataset"
   ]
  },
  {
   "cell_type": "code",
   "execution_count": 1,
   "id": "95e6e1cf",
   "metadata": {},
   "outputs": [
    {
     "name": "stderr",
     "output_type": "stream",
     "text": [
      "/home/user/PML_Project/ai-image-detector-comparison/pml/lib/python3.13/site-packages/tqdm/auto.py:21: TqdmWarning: IProgress not found. Please update jupyter and ipywidgets. See https://ipywidgets.readthedocs.io/en/stable/user_install.html\n",
      "  from .autonotebook import tqdm as notebook_tqdm\n"
     ]
    },
    {
     "name": "stdout",
     "output_type": "stream",
     "text": [
      "Device: cuda\n"
     ]
    }
   ],
   "source": [
    "import os, json, shutil\n",
    "from pathlib import Path\n",
    "\n",
    "import torch\n",
    "from torchvision import models\n",
    "from PIL import Image\n",
    "import pandas as pd\n",
    "from tqdm.auto import tqdm\n",
    "\n",
    "INPUT_DIR_TEST  = r\"../dataset2/test_data_v2\"\n",
    "INPUT_DIR_TRAIN = r\"../dataset2/train_data\"\n",
    "\n",
    "EXTS = {\".jpg\", \".jpeg\", \".png\", \".bmp\", \".webp\"}\n",
    "TOP1_THRESHOLD = 0.25  \n",
    "\n",
    "KEYWORDS = {\n",
    "    \"people\": [\"person\",\"man\",\"woman\",\"boy\",\"girl\",\"bride\",\"groom\",\"diver\",\"skier\",\"player\",\"guitarist\",\"singer\"],\n",
    "    \"bird\":   [\"bird\",\"eagle\",\"hawk\",\"falcon\",\"parrot\",\"duck\",\"goose\",\"swan\",\"owl\",\"hen\",\"rooster\"],\n",
    "    \"animal\": [\"dog\",\"cat\",\"lion\",\"tiger\",\"leopard\",\"bear\",\"horse\",\"cow\",\"sheep\",\"goat\",\"pig\",\"deer\",\"monkey\",\"rabbit\",\"fox\",\"wolf\"],\n",
    "    \"vehicle\":[\"car\",\"taxi\",\"bus\",\"truck\",\"motorcycle\",\"bike\",\"bicycle\",\"train\",\"airplane\",\"helicopter\",\"boat\",\"ship\",\"sail\"],\n",
    "    \"indoor\": [\"sofa\",\"couch\",\"chair\",\"table\",\"desk\",\"lamp\",\"tv\",\"monitor\",\"keyboard\",\"bed\"],\n",
    "    \"outdoor\":[\"mountain\",\"beach\",\"forest\",\"valley\",\"cliff\",\"lakeside\",\"seashore\",\"desert\"],\n",
    "    \"building\":[\"castle\",\"palace\",\"mosque\",\"church\",\"pagoda\",\"barn\",\"bridge\",\"lighthouse\"],\n",
    "}\n",
    "DEFAULT_CLASS = \"other\"\n",
    "\n",
    "device = torch.device(\"cuda\" if torch.cuda.is_available() else \"cpu\")\n",
    "print(\"Device:\", device)\n",
    "\n",
    "weights = models.ResNet50_Weights.IMAGENET1K_V2\n",
    "model = models.resnet50(weights=weights).to(device).eval()\n",
    "preprocess = weights.transforms()\n",
    "classes = weights.meta[\"categories\"]"
   ]
  },
  {
   "cell_type": "code",
   "execution_count": 2,
   "id": "2ab97da4",
   "metadata": {},
   "outputs": [],
   "source": [
    "def list_images(root: str):\n",
    "    root = Path(root)\n",
    "    files = []\n",
    "    for p in root.rglob(\"*\"):\n",
    "        if p.is_file() and p.suffix.lower() in EXTS:\n",
    "            files.append(p)\n",
    "    return sorted(files)\n",
    "\n",
    "def predict_topk(img_path: Path, k=5):\n",
    "    try:\n",
    "        img = Image.open(img_path).convert(\"RGB\")\n",
    "    except Exception as e:\n",
    "        return None \n",
    "    x = preprocess(img).unsqueeze(0).to(device)\n",
    "    with torch.no_grad():\n",
    "        logits = model(x)\n",
    "        probs = torch.softmax(logits, dim=1)[0]\n",
    "        top_prob, top_idx = probs.topk(k)\n",
    "    names = [classes[i] for i in top_idx.tolist()]\n",
    "    return top_idx.tolist(), names, top_prob.tolist()\n",
    "\n",
    "def map_to_coarse(names):\n",
    "    low = [n.lower() for n in names]\n",
    "    for coarse, kws in KEYWORDS.items():\n",
    "        for n in low:\n",
    "            if any(kw in n for kw in kws):\n",
    "                return coarse\n",
    "    return DEFAULT_CLASS\n"
   ]
  },
  {
   "cell_type": "code",
   "execution_count": null,
   "id": "f6a0a1c3",
   "metadata": {},
   "outputs": [
    {
     "name": "stdout",
     "output_type": "stream",
     "text": [
      "Found images: 110000\n"
     ]
    },
    {
     "name": "stderr",
     "output_type": "stream",
     "text": [
      "Classifying: 100%|██████████| 110000/110000 [15:28<00:00, 118.41it/s]\n"
     ]
    },
    {
     "data": {
      "text/html": [
       "<div>\n",
       "<style scoped>\n",
       "    .dataframe tbody tr th:only-of-type {\n",
       "        vertical-align: middle;\n",
       "    }\n",
       "\n",
       "    .dataframe tbody tr th {\n",
       "        vertical-align: top;\n",
       "    }\n",
       "\n",
       "    .dataframe thead th {\n",
       "        text-align: right;\n",
       "    }\n",
       "</style>\n",
       "<table border=\"1\" class=\"dataframe\">\n",
       "  <thead>\n",
       "    <tr style=\"text-align: right;\">\n",
       "      <th></th>\n",
       "      <th>path</th>\n",
       "      <th>top1_name</th>\n",
       "      <th>top1_prob</th>\n",
       "      <th>top5_name</th>\n",
       "      <th>top5_prob</th>\n",
       "      <th>coarse</th>\n",
       "    </tr>\n",
       "  </thead>\n",
       "  <tbody>\n",
       "    <tr>\n",
       "      <th>0</th>\n",
       "      <td>../data/raw/fake/0 (10).jpg</td>\n",
       "      <td>moving van</td>\n",
       "      <td>0.204091</td>\n",
       "      <td>[\"moving van\", \"milk can\", \"espresso maker\", \"...</td>\n",
       "      <td>[0.2040911763906479, 0.034591443836688995, 0.0...</td>\n",
       "      <td>other</td>\n",
       "    </tr>\n",
       "    <tr>\n",
       "      <th>1</th>\n",
       "      <td>../data/raw/fake/0 (2).jpg</td>\n",
       "      <td>moving van</td>\n",
       "      <td>0.173163</td>\n",
       "      <td>[\"moving van\", \"cassette\", \"cassette player\", ...</td>\n",
       "      <td>[0.17316292226314545, 0.03860437124967575, 0.0...</td>\n",
       "      <td>other</td>\n",
       "    </tr>\n",
       "    <tr>\n",
       "      <th>2</th>\n",
       "      <td>../data/raw/fake/0 (3).jpg</td>\n",
       "      <td>platypus</td>\n",
       "      <td>0.063699</td>\n",
       "      <td>[\"platypus\", \"black grouse\", \"otter\", \"water o...</td>\n",
       "      <td>[0.06369943916797638, 0.0461534708738327, 0.02...</td>\n",
       "      <td>other</td>\n",
       "    </tr>\n",
       "    <tr>\n",
       "      <th>3</th>\n",
       "      <td>../data/raw/fake/0 (4).jpg</td>\n",
       "      <td>milk can</td>\n",
       "      <td>0.397394</td>\n",
       "      <td>[\"milk can\", \"Madagascar cat\", \"colobus\", \"pol...</td>\n",
       "      <td>[0.39739418029785156, 0.11154504120349884, 0.0...</td>\n",
       "      <td>animal</td>\n",
       "    </tr>\n",
       "    <tr>\n",
       "      <th>4</th>\n",
       "      <td>../data/raw/fake/0 (5).jpg</td>\n",
       "      <td>gazelle</td>\n",
       "      <td>0.178581</td>\n",
       "      <td>[\"gazelle\", \"coyote\", \"hartebeest\", \"English f...</td>\n",
       "      <td>[0.1785813570022583, 0.04376276582479477, 0.03...</td>\n",
       "      <td>other</td>\n",
       "    </tr>\n",
       "  </tbody>\n",
       "</table>\n",
       "</div>"
      ],
      "text/plain": [
       "                          path   top1_name  top1_prob  \\\n",
       "0  ../data/raw/fake/0 (10).jpg  moving van   0.204091   \n",
       "1   ../data/raw/fake/0 (2).jpg  moving van   0.173163   \n",
       "2   ../data/raw/fake/0 (3).jpg    platypus   0.063699   \n",
       "3   ../data/raw/fake/0 (4).jpg    milk can   0.397394   \n",
       "4   ../data/raw/fake/0 (5).jpg     gazelle   0.178581   \n",
       "\n",
       "                                           top5_name  \\\n",
       "0  [\"moving van\", \"milk can\", \"espresso maker\", \"...   \n",
       "1  [\"moving van\", \"cassette\", \"cassette player\", ...   \n",
       "2  [\"platypus\", \"black grouse\", \"otter\", \"water o...   \n",
       "3  [\"milk can\", \"Madagascar cat\", \"colobus\", \"pol...   \n",
       "4  [\"gazelle\", \"coyote\", \"hartebeest\", \"English f...   \n",
       "\n",
       "                                           top5_prob  coarse  \n",
       "0  [0.2040911763906479, 0.034591443836688995, 0.0...   other  \n",
       "1  [0.17316292226314545, 0.03860437124967575, 0.0...   other  \n",
       "2  [0.06369943916797638, 0.0461534708738327, 0.02...   other  \n",
       "3  [0.39739418029785156, 0.11154504120349884, 0.0...  animal  \n",
       "4  [0.1785813570022583, 0.04376276582479477, 0.03...   other  "
      ]
     },
     "metadata": {},
     "output_type": "display_data"
    }
   ],
   "source": [
    "df_train = pd.read_csv(\"../dataset2/train.csv\")\n",
    "files = df_train[\"file_name\"]\n",
    "classifications = []\n",
    "\n",
    "for p in tqdm(files, desc=\"Classifying\"):\n",
    "    pred = predict_topk(p, k=5)\n",
    "    if pred is None:\n",
    "        continue\n",
    "    idxs, names, probs = pred\n",
    "    top1_prob = probs[0]\n",
    "    coarse = map_to_coarse(names) if top1_prob >= TOP1_THRESHOLD else DEFAULT_CLASS\n",
    "    classifications.append(coarse)\n",
    "\n",
    "df = pd.DataFrame(rows)\n",
    "df.to_csv(RESULTS_CSV, index=False)\n",
    "df.head()"
   ]
  },
  {
   "cell_type": "code",
   "execution_count": null,
   "id": "d2f0bba3",
   "metadata": {},
   "outputs": [
    {
     "name": "stderr",
     "output_type": "stream",
     "text": [
      "Copying: 100%|██████████| 110000/110000 [00:13<00:00, 8447.20it/s] "
     ]
    },
    {
     "name": "stdout",
     "output_type": "stream",
     "text": [
      "Done. Classes distribution:\n",
      "coarse\n",
      "other       95544\n",
      "animal       6456\n",
      "vehicle      3592\n",
      "people       3491\n",
      "building      604\n",
      "indoor        161\n",
      "bird          107\n",
      "outdoor        45\n",
      "Name: count, dtype: int64\n"
     ]
    },
    {
     "name": "stderr",
     "output_type": "stream",
     "text": [
      "\n"
     ]
    }
   ],
   "source": [
    "out = Path(OUTPUT_DIR)\n",
    "out.mkdir(parents=True, exist_ok=True)\n",
    "\n",
    "for _, r in tqdm(df.iterrows(), total=len(df), desc=\"Copying\"):\n",
    "    src = Path(r[\"path\"])\n",
    "    dst_dir = out / r[\"coarse\"]\n",
    "    dst_dir.mkdir(parents=True, exist_ok=True)\n",
    "    dst = dst_dir / src.name\n",
    "    if not dst.exists():\n",
    "        try:\n",
    "            shutil.copy2(src, dst)\n",
    "        except Exception as e:\n",
    "            print(\"COPY ERROR:\", src, \"->\", dst, e)\n",
    "\n",
    "print(\"Done. Classes distribution:\")\n",
    "print(df[\"coarse\"].value_counts())"
   ]
  }
 ],
 "metadata": {
  "kernelspec": {
   "display_name": "pml",
   "language": "python",
   "name": "python3"
  },
  "language_info": {
   "codemirror_mode": {
    "name": "ipython",
    "version": 3
   },
   "file_extension": ".py",
   "mimetype": "text/x-python",
   "name": "python",
   "nbconvert_exporter": "python",
   "pygments_lexer": "ipython3",
   "version": "3.13.7"
  }
 },
 "nbformat": 4,
 "nbformat_minor": 5
}
